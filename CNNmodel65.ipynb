{
  "nbformat": 4,
  "nbformat_minor": 0,
  "metadata": {
    "colab": {
      "name": "CNNmodel.ipynb",
      "provenance": [],
      "collapsed_sections": [],
      "machine_shape": "hm"
    },
    "kernelspec": {
      "name": "python3",
      "display_name": "Python 3"
    },
    "accelerator": "GPU"
  },
  "cells": [
    {
      "cell_type": "code",
      "metadata": {
        "id": "5WialQ1W1ERL",
        "colab_type": "code",
        "outputId": "5aa2ee73-3bbc-4d9e-b365-21455ff80568",
        "colab": {
          "base_uri": "https://localhost:8080/",
          "height": 34
        }
      },
      "source": [
        "!apt-get install -y -qq software-properties-common python-software-properties module-init-tools\n",
        "!add-apt-repository -y ppa:alessandro-strada/ppa 2>&1 > /dev/null\n",
        "!apt-get update -qq 2>&1 > /dev/null"
      ],
      "execution_count": 2,
      "outputs": [
        {
          "output_type": "stream",
          "text": [
            "E: Package 'python-software-properties' has no installation candidate\n"
          ],
          "name": "stdout"
        }
      ]
    },
    {
      "cell_type": "code",
      "metadata": {
        "id": "kbbRzsqb1Q5_",
        "colab_type": "code",
        "outputId": "3c10ecf3-0278-4869-b53b-44e69b69b9be",
        "colab": {
          "base_uri": "https://localhost:8080/",
          "height": 122
        }
      },
      "source": [
        "from google.colab import drive\n",
        "drive.mount('/content/drive')"
      ],
      "execution_count": 3,
      "outputs": [
        {
          "output_type": "stream",
          "text": [
            "Go to this URL in a browser: https://accounts.google.com/o/oauth2/auth?client_id=947318989803-6bn6qk8qdgf4n4g3pfee6491hc0brc4i.apps.googleusercontent.com&redirect_uri=urn%3aietf%3awg%3aoauth%3a2.0%3aoob&response_type=code&scope=email%20https%3a%2f%2fwww.googleapis.com%2fauth%2fdocs.test%20https%3a%2f%2fwww.googleapis.com%2fauth%2fdrive%20https%3a%2f%2fwww.googleapis.com%2fauth%2fdrive.photos.readonly%20https%3a%2f%2fwww.googleapis.com%2fauth%2fpeopleapi.readonly\n",
            "\n",
            "Enter your authorization code:\n",
            "··········\n",
            "Mounted at /content/drive\n"
          ],
          "name": "stdout"
        }
      ]
    },
    {
      "cell_type": "code",
      "metadata": {
        "id": "NSCboqhv1UpT",
        "colab_type": "code",
        "outputId": "86222a16-b486-4030-8ba3-37a01c9cd716",
        "colab": {
          "base_uri": "https://localhost:8080/",
          "height": 34
        }
      },
      "source": [
        "cd /content/drive/'My Drive'/'CIS 520 Project'"
      ],
      "execution_count": 4,
      "outputs": [
        {
          "output_type": "stream",
          "text": [
            "/content/drive/My Drive/CIS 520 Project\n"
          ],
          "name": "stdout"
        }
      ]
    },
    {
      "cell_type": "code",
      "metadata": {
        "id": "zMPY46Gb1VZO",
        "colab_type": "code",
        "colab": {}
      },
      "source": [
        "#imports\n",
        "import warnings\n",
        "import pandas as pd\n",
        "import numpy as np\n",
        "from gensim.models import Word2Vec\n",
        "from gensim.models import KeyedVectors\n",
        "from sklearn.decomposition import PCA\n",
        "from matplotlib import pyplot\n",
        "from collections import Counter\n",
        "import seaborn as sns"
      ],
      "execution_count": 0,
      "outputs": []
    },
    {
      "cell_type": "code",
      "metadata": {
        "id": "ve2wzw6_1Z3F",
        "colab_type": "code",
        "colab": {}
      },
      "source": [
        "def get_data(csvfile):\n",
        "  df = pd.read_pickle(csvfile)\n",
        "  x, y = df['text'].tolist(), df['stars_x'].tolist()\n",
        "  return x, y"
      ],
      "execution_count": 0,
      "outputs": []
    },
    {
      "cell_type": "code",
      "metadata": {
        "id": "hNIOMyty6JJi",
        "colab_type": "code",
        "outputId": "3e1d5e7b-2ad7-40b2-cfd1-802e26d81e15",
        "colab": {
          "base_uri": "https://localhost:8080/",
          "height": 97
        }
      },
      "source": [
        "#imports \n",
        "from sklearn.feature_extraction.text import CountVectorizer\n",
        "from sklearn.feature_extraction.text import TfidfTransformer\n",
        "from keras.preprocessing.text import Tokenizer\n",
        "from sklearn.model_selection import train_test_split\n",
        "from sklearn import metrics\n",
        "from keras.models import Sequential\n",
        "from keras.layers import Dense, Dropout\n",
        "from keras.layers import LSTM, Conv1D, GlobalMaxPooling1D,MaxPooling1D, TimeDistributed\n",
        "from keras.layers.embeddings import Embedding\n",
        "from keras.preprocessing import sequence\n",
        "from keras.utils import to_categorical\n",
        "from keras.preprocessing.sequence import pad_sequences\n",
        "from sklearn.naive_bayes import MultinomialNB \n",
        "import tensorflow as tf\n",
        "tf.test.gpu_device_name()"
      ],
      "execution_count": 7,
      "outputs": [
        {
          "output_type": "stream",
          "text": [
            "Using TensorFlow backend.\n"
          ],
          "name": "stderr"
        },
        {
          "output_type": "display_data",
          "data": {
            "text/html": [
              "<p style=\"color: red;\">\n",
              "The default version of TensorFlow in Colab will soon switch to TensorFlow 2.x.<br>\n",
              "We recommend you <a href=\"https://www.tensorflow.org/guide/migrate\" target=\"_blank\">upgrade</a> now \n",
              "or ensure your notebook will continue to use TensorFlow 1.x via the <code>%tensorflow_version 1.x</code> magic:\n",
              "<a href=\"https://colab.research.google.com/notebooks/tensorflow_version.ipynb\" target=\"_blank\">more info</a>.</p>\n"
            ],
            "text/plain": [
              "<IPython.core.display.HTML object>"
            ]
          },
          "metadata": {
            "tags": []
          }
        },
        {
          "output_type": "execute_result",
          "data": {
            "text/plain": [
              "'/device:GPU:0'"
            ]
          },
          "metadata": {
            "tags": []
          },
          "execution_count": 7
        }
      ]
    },
    {
      "cell_type": "code",
      "metadata": {
        "id": "dDe-HzhyEurZ",
        "colab_type": "code",
        "outputId": "02846a5a-d39e-475d-c97f-3a6641fc10c0",
        "colab": {
          "base_uri": "https://localhost:8080/",
          "height": 68
        }
      },
      "source": [
        "#preparing X and y!!!\n",
        "csvfile = 'reviews_bow.csv'\n",
        "reviews, stars = get_data(csvfile)\n",
        "warnings.filterwarnings(\"ignore\")\n",
        "tempy, tempx = stars[:1000000], reviews[:1000000]\n",
        "print('Data loaded')\n",
        "\n",
        "#preparing y\n",
        "y = np.array(tempy, dtype=np.uint8)\n",
        "ymulti = y-1\n",
        "y = to_categorical(ymulti, num_classes=5)\n",
        "print('y prepared', y.shape)\n",
        "\n",
        "#preparing x\n",
        "embedding_size = 50\n",
        "vocab_size = 20000 #will use most frequent 50k words\n",
        "num_words = 200 #97%coverage for reviews\n",
        "tokenizer = Tokenizer(num_words = vocab_size)\n",
        "tokenizer.fit_on_texts(tempx)\n",
        "sequences = tokenizer.texts_to_sequences(tempx)\n",
        "padded_str = pad_sequences(sequences, maxlen = num_words)\n",
        "#type changed here to use less memory \n",
        "x = np.array(padded_str, dtype=np.uint16)\n",
        "# x = np.expand_dims(x, axis = 2)\n",
        "print('x prepared', x.shape)"
      ],
      "execution_count": 8,
      "outputs": [
        {
          "output_type": "stream",
          "text": [
            "Data loaded\n",
            "y prepared (1000000, 5)\n",
            "x prepared (1000000, 200)\n"
          ],
          "name": "stdout"
        }
      ]
    },
    {
      "cell_type": "code",
      "metadata": {
        "id": "n2EIpvVAf-rs",
        "colab_type": "code",
        "outputId": "fac752ce-d77a-4502-c8e7-d0bd26789b20",
        "colab": {
          "base_uri": "https://localhost:8080/",
          "height": 34
        }
      },
      "source": [
        "#class weights\n",
        "# https://stackoverflow.com/questions/43481490/keras-class-weights-class-weight-for-one-hot-encoding\n",
        "from sklearn.utils.class_weight import compute_class_weight\n",
        "\n",
        "y_integers = np.argmax(y, axis=1)\n",
        "class_weights = compute_class_weight('balanced', np.unique(y_integers), y_integers)\n",
        "d_class_weights = dict(enumerate(class_weights))\n",
        "print(d_class_weights)"
      ],
      "execution_count": 9,
      "outputs": [
        {
          "output_type": "stream",
          "text": [
            "{0: 2.0799101478816113, 1: 2.4022581226352773, 2: 1.598848828843233, 3: 0.7550874013667082, 4: 0.46443906211175795}\n"
          ],
          "name": "stdout"
        }
      ]
    },
    {
      "cell_type": "code",
      "metadata": {
        "id": "L30jQaIwIqIf",
        "colab_type": "code",
        "colab": {}
      },
      "source": [
        "def CNN_simple():\n",
        "    model = Sequential()\n",
        "    model.add(Embedding(vocab_size, 50, input_length=num_words))\n",
        "    model.add(Dropout(0.2))\n",
        "    model.add(Conv1D(128, 11, strides=1, activation='relu'))#, input_shape=(num_words,1)))\n",
        "    model.add(Conv1D(128, 7, strides=1, activation='relu'))\n",
        "    model.add(GlobalMaxPooling1D())\n",
        "    # model.add(Dropout(0.2))\n",
        "    model.add(Dense(200, activation='relu'))\n",
        "    model.add(Dropout(0.2))\n",
        "    # model.add(Dense(120, activation='relu'))\n",
        "    model.add(Dense(5, activation='softmax'))\n",
        "    model.compile(loss='mean_squared_error', optimizer='adam', metrics=['mse','accuracy'])\n",
        "    print(model.summary())\n",
        "    return model"
      ],
      "execution_count": 0,
      "outputs": []
    },
    {
      "cell_type": "code",
      "metadata": {
        "id": "NG5AtJrkH4fT",
        "colab_type": "code",
        "outputId": "deaada10-d7e5-4ec0-a015-2660a88e50f1",
        "colab": {
          "base_uri": "https://localhost:8080/",
          "height": 1000
        }
      },
      "source": [
        "#CNN\n",
        "#train-test\n",
        "X_train, X_test, y_train, y_test = train_test_split(x, y, test_size=0.2, random_state=42, stratify = y)\n",
        "print('X train shape: ', type(X_train), ' y train shape: ', type(y_train))\n",
        "print('X train type: ', X_train.shape, ' y train type: ', y_train.shape)\n",
        "\n",
        "model = CNN_simple()\n",
        "model.fit(X_train, y_train, epochs=20, batch_size=32, validation_split=0.1, verbose = 1, class_weight=d_class_weights)\n",
        "model.save('cnn_mse.h5')\n",
        "scores = model.evaluate(X_test, y_test, verbose=0)\n",
        "pred = model.predict_classes(X_test)\n",
        "y_int = [np.argmax(r) for r in y_test]\n",
        "print(scores)\n",
        "print(metrics.accuracy_score(y_int, pred))\n",
        "print(metrics.classification_report(y_int, pred))"
      ],
      "execution_count": 12,
      "outputs": [
        {
          "output_type": "stream",
          "text": [
            "X train shape:  <class 'numpy.ndarray'>  y train shape:  <class 'numpy.ndarray'>\n",
            "X train type:  (800000, 200)  y train type:  (800000, 5)\n",
            "Model: \"sequential_2\"\n",
            "_________________________________________________________________\n",
            "Layer (type)                 Output Shape              Param #   \n",
            "=================================================================\n",
            "embedding_2 (Embedding)      (None, 200, 50)           1000000   \n",
            "_________________________________________________________________\n",
            "dropout_3 (Dropout)          (None, 200, 50)           0         \n",
            "_________________________________________________________________\n",
            "conv1d_3 (Conv1D)            (None, 190, 128)          70528     \n",
            "_________________________________________________________________\n",
            "conv1d_4 (Conv1D)            (None, 184, 128)          114816    \n",
            "_________________________________________________________________\n",
            "global_max_pooling1d_2 (Glob (None, 128)               0         \n",
            "_________________________________________________________________\n",
            "dense_3 (Dense)              (None, 200)               25800     \n",
            "_________________________________________________________________\n",
            "dropout_4 (Dropout)          (None, 200)               0         \n",
            "_________________________________________________________________\n",
            "dense_4 (Dense)              (None, 5)                 1005      \n",
            "=================================================================\n",
            "Total params: 1,212,149\n",
            "Trainable params: 1,212,149\n",
            "Non-trainable params: 0\n",
            "_________________________________________________________________\n",
            "None\n",
            "Train on 720000 samples, validate on 80000 samples\n",
            "Epoch 1/20\n",
            "720000/720000 [==============================] - 120s 167us/step - loss: 0.1073 - mean_squared_error: 0.1006 - acc: 0.6053 - val_loss: 0.1023 - val_mean_squared_error: 0.0936 - val_acc: 0.6329\n",
            "Epoch 2/20\n",
            "720000/720000 [==============================] - 119s 166us/step - loss: 0.0997 - mean_squared_error: 0.0941 - acc: 0.6357 - val_loss: 0.0997 - val_mean_squared_error: 0.0916 - val_acc: 0.6453\n",
            "Epoch 3/20\n",
            "720000/720000 [==============================] - 120s 167us/step - loss: 0.0971 - mean_squared_error: 0.0919 - acc: 0.6465 - val_loss: 0.0995 - val_mean_squared_error: 0.0896 - val_acc: 0.6570\n",
            "Epoch 4/20\n",
            "720000/720000 [==============================] - 119s 166us/step - loss: 0.0952 - mean_squared_error: 0.0905 - acc: 0.6523 - val_loss: 0.0996 - val_mean_squared_error: 0.0910 - val_acc: 0.6495\n",
            "Epoch 5/20\n",
            "720000/720000 [==============================] - 119s 166us/step - loss: 0.0936 - mean_squared_error: 0.0894 - acc: 0.6576 - val_loss: 0.1001 - val_mean_squared_error: 0.0936 - val_acc: 0.6320\n",
            "Epoch 6/20\n",
            "720000/720000 [==============================] - 120s 166us/step - loss: 0.0921 - mean_squared_error: 0.0884 - acc: 0.6625 - val_loss: 0.1004 - val_mean_squared_error: 0.0902 - val_acc: 0.6530\n",
            "Epoch 7/20\n",
            "720000/720000 [==============================] - 119s 165us/step - loss: 0.0907 - mean_squared_error: 0.0875 - acc: 0.6670 - val_loss: 0.1028 - val_mean_squared_error: 0.0915 - val_acc: 0.6541\n",
            "Epoch 8/20\n",
            "720000/720000 [==============================] - 119s 165us/step - loss: 0.0896 - mean_squared_error: 0.0868 - acc: 0.6699 - val_loss: 0.1027 - val_mean_squared_error: 0.0905 - val_acc: 0.6541\n",
            "Epoch 9/20\n",
            "720000/720000 [==============================] - 119s 165us/step - loss: 0.0885 - mean_squared_error: 0.0861 - acc: 0.6734 - val_loss: 0.1050 - val_mean_squared_error: 0.0910 - val_acc: 0.6552\n",
            "Epoch 10/20\n",
            "720000/720000 [==============================] - 119s 165us/step - loss: 0.0874 - mean_squared_error: 0.0854 - acc: 0.6765 - val_loss: 0.1048 - val_mean_squared_error: 0.0913 - val_acc: 0.6559\n",
            "Epoch 11/20\n",
            "720000/720000 [==============================] - 119s 165us/step - loss: 0.0865 - mean_squared_error: 0.0848 - acc: 0.6795 - val_loss: 0.1052 - val_mean_squared_error: 0.0933 - val_acc: 0.6504\n",
            "Epoch 12/20\n",
            "720000/720000 [==============================] - 118s 164us/step - loss: 0.0859 - mean_squared_error: 0.0845 - acc: 0.6808 - val_loss: 0.1054 - val_mean_squared_error: 0.0939 - val_acc: 0.6432\n",
            "Epoch 13/20\n",
            "720000/720000 [==============================] - 118s 164us/step - loss: 0.0851 - mean_squared_error: 0.0839 - acc: 0.6842 - val_loss: 0.1050 - val_mean_squared_error: 0.1007 - val_acc: 0.6109\n",
            "Epoch 14/20\n",
            "720000/720000 [==============================] - 118s 164us/step - loss: 0.0843 - mean_squared_error: 0.0834 - acc: 0.6852 - val_loss: 0.1054 - val_mean_squared_error: 0.0926 - val_acc: 0.6468\n",
            "Epoch 15/20\n",
            "720000/720000 [==============================] - 117s 162us/step - loss: 0.0838 - mean_squared_error: 0.0831 - acc: 0.6872 - val_loss: 0.1064 - val_mean_squared_error: 0.0967 - val_acc: 0.6327\n",
            "Epoch 16/20\n",
            "720000/720000 [==============================] - 118s 164us/step - loss: 0.0832 - mean_squared_error: 0.0826 - acc: 0.6901 - val_loss: 0.1065 - val_mean_squared_error: 0.0944 - val_acc: 0.6446\n",
            "Epoch 17/20\n",
            "720000/720000 [==============================] - 117s 163us/step - loss: 0.0829 - mean_squared_error: 0.0824 - acc: 0.6900 - val_loss: 0.1077 - val_mean_squared_error: 0.0943 - val_acc: 0.6473\n",
            "Epoch 18/20\n",
            "720000/720000 [==============================] - 121s 168us/step - loss: 0.0823 - mean_squared_error: 0.0820 - acc: 0.6918 - val_loss: 0.1084 - val_mean_squared_error: 0.1030 - val_acc: 0.6028\n",
            "Epoch 19/20\n",
            "720000/720000 [==============================] - 119s 166us/step - loss: 0.0817 - mean_squared_error: 0.0816 - acc: 0.6938 - val_loss: 0.1070 - val_mean_squared_error: 0.0971 - val_acc: 0.6276\n",
            "Epoch 20/20\n",
            "720000/720000 [==============================] - 119s 165us/step - loss: 0.0812 - mean_squared_error: 0.0813 - acc: 0.6955 - val_loss: 0.1107 - val_mean_squared_error: 0.0941 - val_acc: 0.6528\n",
            "[0.09490437376737594, 0.09490437376737594, 0.651305]\n",
            "0.651305\n",
            "              precision    recall  f1-score   support\n",
            "\n",
            "           0       0.78      0.60      0.68     19232\n",
            "           1       0.43      0.59      0.50     16651\n",
            "           2       0.49      0.49      0.49     25018\n",
            "           3       0.57      0.50      0.53     52974\n",
            "           4       0.77      0.81      0.79     86125\n",
            "\n",
            "    accuracy                           0.65    200000\n",
            "   macro avg       0.61      0.60      0.60    200000\n",
            "weighted avg       0.66      0.65      0.65    200000\n",
            "\n"
          ],
          "name": "stdout"
        }
      ]
    }
  ]
}