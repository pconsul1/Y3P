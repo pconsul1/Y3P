{
  "nbformat": 4,
  "nbformat_minor": 0,
  "metadata": {
    "colab": {
      "name": "word2vec_embed.ipynb",
      "provenance": [],
      "collapsed_sections": [],
      "machine_shape": "hm"
    },
    "kernelspec": {
      "name": "python3",
      "display_name": "Python 3"
    }
  },
  "cells": [
    {
      "cell_type": "code",
      "metadata": {
        "id": "5WialQ1W1ERL",
        "colab_type": "code",
        "colab": {}
      },
      "source": [
        "!apt-get install -y -qq software-properties-common python-software-properties module-init-tools\n",
        "!add-apt-repository -y ppa:alessandro-strada/ppa 2>&1 > /dev/null\n",
        "!apt-get update -qq 2>&1 > /dev/null"
      ],
      "execution_count": 0,
      "outputs": []
    },
    {
      "cell_type": "code",
      "metadata": {
        "id": "poAILJx51OYv",
        "colab_type": "code",
        "colab": {}
      },
      "source": [
        "!pip install -U gensim"
      ],
      "execution_count": 0,
      "outputs": []
    },
    {
      "cell_type": "code",
      "metadata": {
        "id": "kbbRzsqb1Q5_",
        "colab_type": "code",
        "colab": {}
      },
      "source": [
        "from google.colab import drive\n",
        "drive.mount('/content/drive')"
      ],
      "execution_count": 0,
      "outputs": []
    },
    {
      "cell_type": "code",
      "metadata": {
        "id": "NSCboqhv1UpT",
        "colab_type": "code",
        "colab": {}
      },
      "source": [
        "cd /content/drive/'My Drive'/'CIS 520 Project'"
      ],
      "execution_count": 0,
      "outputs": []
    },
    {
      "cell_type": "code",
      "metadata": {
        "id": "zMPY46Gb1VZO",
        "colab_type": "code",
        "colab": {}
      },
      "source": [
        "#imports\n",
        "import warnings\n",
        "import pandas as pd\n",
        "import numpy as np\n",
        "from gensim.models import Word2Vec\n",
        "from gensim.models import KeyedVectors\n",
        "from sklearn.decomposition import PCA\n",
        "from matplotlib import pyplot\n",
        "from collections import Counter\n",
        "import seaborn as sns"
      ],
      "execution_count": 0,
      "outputs": []
    },
    {
      "cell_type": "code",
      "metadata": {
        "id": "ve2wzw6_1Z3F",
        "colab_type": "code",
        "colab": {}
      },
      "source": [
        "def get_data(csvfile):\n",
        "  df = pd.read_pickle(csvfile)\n",
        "  x, y = df['text'].tolist(), df['stars_x'].tolist()\n",
        "  return x, y"
      ],
      "execution_count": 0,
      "outputs": []
    },
    {
      "cell_type": "code",
      "metadata": {
        "id": "Wgd2DYWC4QS8",
        "colab_type": "code",
        "colab": {}
      },
      "source": [
        "csvfile = 'reviews_bow.csv'\n",
        "reviews, stars = get_data(csvfile)"
      ],
      "execution_count": 0,
      "outputs": []
    },
    {
      "cell_type": "code",
      "metadata": {
        "id": "wwYsYtvE2kxM",
        "colab_type": "code",
        "colab": {}
      },
      "source": [
        "def create_word2vec(reviews, embed_file, size=100, window=10, min_count=2, workers=10, it=5):\n",
        "  model = Word2Vec(reviews, size=size, window=window, min_count=min_count, workers=workers, iter=it)\n",
        "  words = list(model.wv.vocab)\n",
        "  # words = model.wv.vocab\n",
        "  model.save(embed_file)\n",
        "  return model, words"
      ],
      "execution_count": 0,
      "outputs": []
    },
    {
      "cell_type": "code",
      "metadata": {
        "id": "EGgvXTE8c8b_",
        "colab_type": "code",
        "colab": {}
      },
      "source": [
        "def load_word2vec(embed_file):\n",
        "  model = Word2Vec.load(embed_file)\n",
        "  words = list(model.wv.vocab)\n",
        "  return model, words"
      ],
      "execution_count": 0,
      "outputs": []
    },
    {
      "cell_type": "code",
      "metadata": {
        "id": "vggX6I1H3-N7",
        "colab_type": "code",
        "colab": {}
      },
      "source": [
        "embed_file = 'word2vec_embed.bin'\n",
        "summary, word_dict = create_word2vec(reviews, embed_file)\n",
        "# summary, word_dict = load_word2vec(embed_file)"
      ],
      "execution_count": 0,
      "outputs": []
    },
    {
      "cell_type": "code",
      "metadata": {
        "id": "T2X0b5Rm4dOp",
        "colab_type": "code",
        "colab": {}
      },
      "source": [
        "num_words = 50\n",
        "X_vis = summary[word_dict[:num_words]]\n",
        "pca = PCA(n_components=2)\n",
        "result = pca.fit_transform(X_vis)\n",
        "# create a scatter plot of the projection\n",
        "pyplot.scatter(result[:, 0], result[:, 1])\n",
        "words = list(summary.wv.vocab)\n",
        "for i, word in enumerate(words):\n",
        "  if i>num_words-1:\n",
        "    break\n",
        "  else:\n",
        "    pyplot.annotate(word, xy=(result[i, 0], result[i, 1]))\n",
        "pyplot.show()"
      ],
      "execution_count": 0,
      "outputs": []
    },
    {
      "cell_type": "code",
      "metadata": {
        "id": "rEdNXLCLJziv",
        "colab_type": "code",
        "colab": {}
      },
      "source": [
        "#data stats\n",
        "print(\"distribution for stars: \", Counter(stars))\n",
        "maxlen = max([len(ls) for ls in reviews])\n",
        "print(\"max length of sentence: \", maxlen)\n",
        "print(\"lenght of vocab: \", len(list(word_dict)))"
      ],
      "execution_count": 0,
      "outputs": []
    }
  ]
}